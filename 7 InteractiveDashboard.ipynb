{
 "cells": [
  {
   "cell_type": "markdown",
   "id": "259db26c",
   "metadata": {},
   "source": [
    "# Build a Dashboard Application with Plotly & Dash"
   ]
  },
  {
   "cell_type": "code",
   "execution_count": 3,
   "id": "896fc14a",
   "metadata": {},
   "outputs": [
    {
     "name": "stdout",
     "output_type": "stream",
     "text": [
      "Overwriting spacex_dash_app.py\n"
     ]
    }
   ],
   "source": [
    "%%writefile spacex_dash_app.py\n",
    "\n",
    "# Import required libraries\n",
    "import pandas as pd\n",
    "import dash\n",
    "from dash import html\n",
    "from dash import dcc\n",
    "from dash.dependencies import Input, Output\n",
    "import plotly.express as px\n",
    "\n",
    "# Read the airline data into pandas dataframe\n",
    "spacex_df = pd.read_csv(\"spacex_launch_dash.csv\")\n",
    "max_payload = spacex_df['Payload Mass (kg)'].max()\n",
    "min_payload = spacex_df['Payload Mass (kg)'].min()\n",
    "\n",
    "# Create a dash application\n",
    "app = dash.Dash(__name__)\n",
    "\n",
    "# Create an app layout\n",
    "app.layout = html.Div(children=[html.H1('SpaceX Launch Records Dashboard',\n",
    "                                        style={'textAlign': 'center', 'color': '#503D36',\n",
    "                                               'font-size': 40}),\n",
    "                                # TASK 1: Add a dropdown list to enable Launch Site selection\n",
    "                                # The default select value is for ALL sites\n",
    "                                dcc.Dropdown(id='site-dropdown',\n",
    "                                         options=[\n",
    "                                         {'label': 'All Sites', 'value': 'ALL'},\n",
    "                                         {'label': 'CCAFS LC-40', 'value': 'CCAFS LC-40'},\n",
    "                                         {'label': 'CCAFS SLC-40', 'value': 'CCAFS SLC-40'},\n",
    "                                         {'label': 'KSC LC-39A', 'value': 'KSC LC-39A'},\n",
    "                                         {'label': 'VAFB SLC-4E', 'value': 'VAFB SLC-4E'}\n",
    "                                     ],\n",
    "                                     value='ALL',\n",
    "                                     placeholder=\"Select a Launch Site here\",\n",
    "                                     searchable=True\n",
    "                                     ),\n",
    "                                html.Br(),\n",
    "\n",
    "                                # TASK 2: Add a pie chart to show the total successful launches count for all sites\n",
    "                                # If a specific launch site was selected, show the Success vs. Failed counts for the site\n",
    "                                html.Div(dcc.Graph(id='success-pie-chart')),\n",
    "                                html.Br(),\n",
    "\n",
    "                                html.P(\"Payload range (Kg):\"),\n",
    "                                # TASK 3: Add a slider to select payload range\n",
    "                                #dcc.RangeSlider(id='payload-slider',...)\n",
    "                                dcc.RangeSlider(id='payload-slider',\n",
    "                                    min=0, max=10000, step=1000,\n",
    "                                    marks={0: '0', 10000: '10000'},\n",
    "                                    value=[min_payload, max_payload]\n",
    "                                    ),\n",
    "\n",
    "                                # TASK 4: Add a scatter chart to show the correlation between payload and launch success\n",
    "                                html.Div(dcc.Graph(id='success-payload-scatter-chart')),\n",
    "                                ])\n",
    "\n",
    "# TASK 2:\n",
    "# Add a callback function for `site-dropdown` as input, `success-pie-chart` as output\n",
    "# Function decorator to specify function input and output\n",
    "@app.callback(Output(component_id='success-pie-chart', component_property='figure'),\n",
    "              Input(component_id='site-dropdown', component_property='value'))\n",
    "def render_pie_chart(entered_site):\n",
    "    if entered_site == 'ALL':\n",
    "        # If 'ALL' sites are selected, calculate success counts for all sites\n",
    "        all_sites_success_counts = spacex_df[spacex_df['class'] == 1]['Launch Site'].value_counts()\n",
    "        all_sites_failed_counts = spacex_df[spacex_df['class'] == 0]['Launch Site'].value_counts()\n",
    "        \n",
    "        # Create a pie chart figure\n",
    "        fig = px.pie(names=all_sites_success_counts.index, values=all_sites_success_counts,\n",
    "                     title='Total Success Launches by Site (All Sites)')\n",
    "        \n",
    "        return fig\n",
    "    else:\n",
    "        # If a specific site is selected, filter the dataframe for that site\n",
    "        site_df = spacex_df[spacex_df['Launch Site'] == entered_site]\n",
    "        \n",
    "        # Calculate success and failure counts for the selected site\n",
    "        site_success_counts = site_df[site_df['class'] == 1]['class'].count()\n",
    "        site_failed_counts = site_df[site_df['class'] == 0]['class'].count()\n",
    "        \n",
    "        # Create a pie chart figure for the selected site\n",
    "        fig = px.pie(names=['Success', 'Failure'], values=[site_success_counts, site_failed_counts],\n",
    "                     title=f'Success vs. Failure for {entered_site}')\n",
    "        \n",
    "        return fig\n",
    "\n",
    "# TASK 4:\n",
    "# Add a callback function for `site-dropdown` and `payload-slider` as inputs, `success-payload-scatter-chart` as output\n",
    "# Function decorator to specify function input and output\n",
    "@app.callback(Output(component_id='success-payload-scatter-chart', component_property='figure'),\n",
    "              [Input(component_id='site-dropdown', component_property='value'),\n",
    "               Input(component_id=\"payload-slider\", component_property=\"value\")])\n",
    "def render_scatter_chart(selected_site, payload_range):\n",
    "    if selected_site == 'ALL':\n",
    "        # If 'ALL' sites are selected, filter the entire dataframe\n",
    "        filtered_df = spacex_df\n",
    "    else:\n",
    "        # If a specific site is selected, filter the dataframe for that site\n",
    "        filtered_df = spacex_df[spacex_df['Launch Site'] == selected_site]\n",
    "    \n",
    "    # Filter the dataframe based on payload range\n",
    "    filtered_df = filtered_df[(filtered_df['Payload Mass (kg)'] >= payload_range[0]) &\n",
    "                              (filtered_df['Payload Mass (kg)'] <= payload_range[1])]\n",
    "    \n",
    "    # Create a scatter plot\n",
    "    fig = px.scatter(filtered_df, x='Payload Mass (kg)', y='class',\n",
    "                     color='Booster Version Category',\n",
    "                     title=f'Scatter Plot of Payload vs. Launch Outcome for {selected_site}')\n",
    "    \n",
    "    return fig\n",
    "\n",
    "# Run the app\n",
    "if __name__ == '__main__':\n",
    "    app.run_server()\n"
   ]
  },
  {
   "cell_type": "code",
   "execution_count": 4,
   "id": "03a51248",
   "metadata": {
    "tags": []
   },
   "outputs": [
    {
     "data": {
      "text/html": [
       "\n",
       "        <iframe\n",
       "            width=\"100%\"\n",
       "            height=\"650\"\n",
       "            src=\"http://127.0.0.1:8050/\"\n",
       "            frameborder=\"0\"\n",
       "            allowfullscreen\n",
       "            \n",
       "        ></iframe>\n",
       "        "
      ],
      "text/plain": [
       "<IPython.lib.display.IFrame at 0x7fe218050eb0>"
      ]
     },
     "metadata": {},
     "output_type": "display_data"
    }
   ],
   "source": [
    "%run spacex_dash_app.py"
   ]
  },
  {
   "cell_type": "code",
   "execution_count": null,
   "id": "bd22fee4",
   "metadata": {},
   "outputs": [],
   "source": []
  }
 ],
 "metadata": {
  "kernelspec": {
   "display_name": "Python 3 (ipykernel)",
   "language": "python",
   "name": "python3"
  },
  "language_info": {
   "codemirror_mode": {
    "name": "ipython",
    "version": 3
   },
   "file_extension": ".py",
   "mimetype": "text/x-python",
   "name": "python",
   "nbconvert_exporter": "python",
   "pygments_lexer": "ipython3",
   "version": "3.9.13"
  }
 },
 "nbformat": 4,
 "nbformat_minor": 5
}
